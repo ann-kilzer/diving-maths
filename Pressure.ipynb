{
 "cells": [
  {
   "cell_type": "markdown",
   "id": "afb8619b",
   "metadata": {},
   "source": [
    "# Pressure at depth"
   ]
  },
  {
   "cell_type": "code",
   "execution_count": 1,
   "id": "22140fd0",
   "metadata": {},
   "outputs": [],
   "source": [
    "depth_in_meters= int(input())"
   ]
  },
  {
   "cell_type": "code",
   "execution_count": 2,
   "id": "e267adae",
   "metadata": {},
   "outputs": [],
   "source": [
    "assert depth_in_meters >= 0"
   ]
  },
  {
   "cell_type": "code",
   "execution_count": 3,
   "id": "e459672e",
   "metadata": {},
   "outputs": [],
   "source": [
    "pressure_ata = (depth_in_meters / 10) + 1"
   ]
  },
  {
   "cell_type": "code",
   "execution_count": 4,
   "id": "dadd5d7f",
   "metadata": {},
   "outputs": [
    {
     "name": "stdout",
     "output_type": "stream",
     "text": [
      "At depth 40m the pressure is 5.0 ATA\n"
     ]
    }
   ],
   "source": [
    "print(f'At depth {depth_in_meters}m the pressure is {pressure_ata} ATA')"
   ]
  }
 ],
 "metadata": {
  "kernelspec": {
   "display_name": "Python 3",
   "language": "python",
   "name": "python3"
  },
  "language_info": {
   "codemirror_mode": {
    "name": "ipython",
    "version": 3
   },
   "file_extension": ".py",
   "mimetype": "text/x-python",
   "name": "python",
   "nbconvert_exporter": "python",
   "pygments_lexer": "ipython3",
   "version": "3.12.1"
  }
 },
 "nbformat": 4,
 "nbformat_minor": 5
}
