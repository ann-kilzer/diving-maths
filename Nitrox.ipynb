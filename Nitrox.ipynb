{
 "cells": [
  {
   "cell_type": "code",
   "execution_count": 1,
   "id": "b63b17d8-140e-4518-b1cd-38396f527c44",
   "metadata": {},
   "outputs": [],
   "source": [
    "# https://www.dive-scuba.com/diving-with-nitrox/"
   ]
  },
  {
   "cell_type": "code",
   "execution_count": 2,
   "id": "b820e70e-da4d-4de6-ab28-9f2bf878c45e",
   "metadata": {},
   "outputs": [],
   "source": [
    "# Partial Pressure of O2. Recommended value is 1.4. Critical limit is 1.6.\n",
    "PPO2 = 1.4"
   ]
  },
  {
   "cell_type": "code",
   "execution_count": 3,
   "id": "552b20a0-ae6a-49ef-94c1-86814aa4206b",
   "metadata": {},
   "outputs": [],
   "source": [
    "# Oxygen percent. Any number below 40 is suitable.\n",
    "O2_PERCENT = 32"
   ]
  },
  {
   "cell_type": "code",
   "execution_count": 4,
   "id": "38a84a2c-963e-4a17-9735-80b39ab3b20b",
   "metadata": {},
   "outputs": [],
   "source": [
    "# Fraction of Oxygen\n",
    "FO2 = O2_PERCENT / 100"
   ]
  },
  {
   "cell_type": "code",
   "execution_count": 5,
   "id": "5b432944-c026-47e7-af14-6e76fefb8209",
   "metadata": {},
   "outputs": [],
   "source": [
    "# Maximum Operating Depth in meters\n",
    "MOD = (PPO2/FO2) * 10 - 10"
   ]
  },
  {
   "cell_type": "code",
   "execution_count": 6,
   "id": "f68109c1-405e-41f0-9dbe-1a3cbd98e216",
   "metadata": {},
   "outputs": [
    {
     "name": "stdout",
     "output_type": "stream",
     "text": [
      "Maximum Operating Depth of EAN32 is 33.75 meters\n"
     ]
    }
   ],
   "source": [
    "print(f'Maximum Operating Depth of EAN{O2_PERCENT} is {MOD} meters')"
   ]
  },
  {
   "cell_type": "code",
   "execution_count": null,
   "id": "4ac9c3fa-7882-4cd2-83f7-9a3e6d906cbf",
   "metadata": {},
   "outputs": [],
   "source": []
  }
 ],
 "metadata": {
  "kernelspec": {
   "display_name": "Python 3 (ipykernel)",
   "language": "python",
   "name": "python3"
  },
  "language_info": {
   "codemirror_mode": {
    "name": "ipython",
    "version": 3
   },
   "file_extension": ".py",
   "mimetype": "text/x-python",
   "name": "python",
   "nbconvert_exporter": "python",
   "pygments_lexer": "ipython3",
   "version": "3.10.19"
  }
 },
 "nbformat": 4,
 "nbformat_minor": 5
}
