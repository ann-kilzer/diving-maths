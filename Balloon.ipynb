{
 "cells": [
  {
   "cell_type": "markdown",
   "id": "1ef1c349",
   "metadata": {},
   "source": [
    "# Balloon 🎈 Physics\n",
    "\n",
    "All calculations in metric"
   ]
  },
  {
   "cell_type": "code",
   "execution_count": 96,
   "id": "67410a55",
   "metadata": {},
   "outputs": [],
   "source": [
    "starting_depth = int(input())\n",
    "assert starting_depth >= 0"
   ]
  },
  {
   "cell_type": "code",
   "execution_count": 97,
   "id": "ba06534e",
   "metadata": {},
   "outputs": [],
   "source": [
    "ending_depth = int(input())\n",
    "assert ending_depth >= 0"
   ]
  },
  {
   "cell_type": "code",
   "execution_count": 98,
   "id": "a2a75102",
   "metadata": {},
   "outputs": [],
   "source": [
    "def pressure_at_depth(depth: int):\n",
    "  return (depth / 10) + 1"
   ]
  },
  {
   "cell_type": "code",
   "execution_count": 99,
   "id": "2271e837",
   "metadata": {},
   "outputs": [],
   "source": [
    "starting_pressure = pressure_at_depth(starting_depth)\n",
    "ending_pressure = pressure_at_depth(ending_depth)"
   ]
  },
  {
   "cell_type": "code",
   "execution_count": 100,
   "id": "11ee91ce",
   "metadata": {},
   "outputs": [],
   "source": [
    "# assume 1L capacity\n",
    "starting_volume = 1 \n",
    "ending_volume = starting_volume * starting_pressure / ending_pressure"
   ]
  },
  {
   "cell_type": "code",
   "execution_count": 101,
   "id": "152dec96",
   "metadata": {},
   "outputs": [],
   "source": [
    "change = ending_volume - starting_volume"
   ]
  },
  {
   "cell_type": "code",
   "execution_count": 102,
   "id": "fe3f3e3b",
   "metadata": {},
   "outputs": [
    {
     "name": "stdout",
     "output_type": "stream",
     "text": [
      "A 1.00L balloon traveling from 10 to 30 ends at 0.50L, a change of -0.50L\n"
     ]
    }
   ],
   "source": [
    "print(f'A {starting_volume:.2f}L balloon traveling from {starting_depth} to {ending_depth} ends at {ending_volume:.2f}L, a change of {change:.2f}L')"
   ]
  }
 ],
 "metadata": {
  "kernelspec": {
   "display_name": "Python 3",
   "language": "python",
   "name": "python3"
  },
  "language_info": {
   "codemirror_mode": {
    "name": "ipython",
    "version": 3
   },
   "file_extension": ".py",
   "mimetype": "text/x-python",
   "name": "python",
   "nbconvert_exporter": "python",
   "pygments_lexer": "ipython3",
   "version": "3.12.1"
  }
 },
 "nbformat": 4,
 "nbformat_minor": 5
}
